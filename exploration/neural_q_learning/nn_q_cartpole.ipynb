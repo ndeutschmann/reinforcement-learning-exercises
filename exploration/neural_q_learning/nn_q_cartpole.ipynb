{
 "cells": [
  {
   "cell_type": "code",
   "execution_count": 2,
   "metadata": {},
   "outputs": [
    {
     "name": "stderr",
     "output_type": "stream",
     "text": [
      "/Users/ndeutsch/code/reinforcement-learning-exercises/venv_rl/lib/python3.7/site-packages/gym/logger.py:30: UserWarning: \u001b[33mWARN: Box bound precision lowered by casting to float32\u001b[0m\n",
      "  warnings.warn(colorize('%s: %s'%('WARN', msg % args), 'yellow'))\n"
     ]
    }
   ],
   "source": [
    "import numpy as np\n",
    "import gym\n",
    "from collections import namedtuple\n",
    "env = gym.make(\"CartPole-v1\")\n",
    "import torch\n",
    "import torch.nn as nn\n",
    "import torch.nn.functional as F\n",
    "from matplotlib import pyplot as plt\n",
    "from tqdm.autonotebook import tqdm\n",
    "from copy import deepcopy\n",
    "from gym import wrappers\n",
    "from time import time"
   ]
  },
  {
   "cell_type": "markdown",
   "metadata": {},
   "source": [
    "# Getting the interactions with the environment right before the model"
   ]
  },
  {
   "cell_type": "code",
   "execution_count": 3,
   "metadata": {},
   "outputs": [],
   "source": [
    "# Random movement\n",
    "observation = env.reset()\n",
    "for _ in range(100):\n",
    "  env.render()\n",
    "  action = env.action_space.sample() # your agent here (this takes random actions)\n",
    "  observation, reward, done, info = env.step(action)\n",
    "\n",
    "  if done:\n",
    "    observation = env.reset()\n",
    "env.close()"
   ]
  },
  {
   "cell_type": "code",
   "execution_count": 4,
   "metadata": {},
   "outputs": [
    {
     "name": "stdout",
     "output_type": "stream",
     "text": [
      "Discrete(2)\n",
      "1\n",
      "0\n",
      "1\n",
      "0\n",
      "1\n"
     ]
    }
   ],
   "source": [
    "# looking at what we can interact with\n",
    "print(env.action_space)\n",
    "for i in range(5):\n",
    "    print(env.action_space.sample())"
   ]
  },
  {
   "cell_type": "code",
   "execution_count": 13,
   "metadata": {},
   "outputs": [],
   "source": [
    "# Understanding the action space: action 1\n",
    "observation = env.reset()\n",
    "for _ in range(100):\n",
    "  env.render()\n",
    "  action = 1\n",
    "  observation, reward, done, info = env.step(action)\n",
    "  #if done:\n",
    "    #observation = env.reset()\n",
    "env.close()"
   ]
  },
  {
   "cell_type": "code",
   "execution_count": 14,
   "metadata": {},
   "outputs": [],
   "source": [
    "# Understanding the action space: action 2\n",
    "observation = env.reset()\n",
    "for _ in range(100):\n",
    "  env.render()\n",
    "  action = 0\n",
    "  observation, reward, done, info = env.step(action)\n",
    "  #if done:\n",
    "    #observation = env.reset()\n",
    "env.close()"
   ]
  },
  {
   "cell_type": "code",
   "execution_count": 15,
   "metadata": {},
   "outputs": [
    {
     "name": "stdout",
     "output_type": "stream",
     "text": [
      "(array([ 0.016848  , -0.1580901 ,  0.00284445,  0.24564078]), 1.0, False, {})\n"
     ]
    }
   ],
   "source": [
    "# What does the output look like?\n",
    "env.reset()\n",
    "data = env.step(0)\n",
    "print(data)"
   ]
  },
  {
   "cell_type": "code",
   "execution_count": 16,
   "metadata": {},
   "outputs": [],
   "source": [
    "# Creating a data structure for the state\n",
    "observation_fields = [\"position\",\"velocity\",\"angle\",\"angular_velocity\"]\n",
    "cartpole_space = namedtuple(\"cartpole_state\",observation_fields)\n",
    "# Did not end up using it as it does not interact nicely with \n",
    "# numpy arrays. If actually needed some kind of pandas dataframe \n",
    "# is most likely better suited"
   ]
  },
  {
   "cell_type": "code",
   "execution_count": 18,
   "metadata": {},
   "outputs": [
    {
     "name": "stdout",
     "output_type": "stream",
     "text": [
      "49.0\n",
      "1.0\n"
     ]
    }
   ],
   "source": [
    "# stupid alg as a baseline:\n",
    "# if the rod is angled left, move left and vice versa\n",
    "v = 0.1\n",
    "Reward = 0\n",
    "observation = env.reset()\n",
    "for _ in range(1000):\n",
    "    env.render()\n",
    "    action = 1 if v > 0 else 0\n",
    "    observation, reward, done, info = env.step(action)\n",
    "    v = observation[-2]\n",
    "    Reward += reward\n",
    "    if done:\n",
    "        break\n",
    "env.close()\n",
    "# Total episode reward\n",
    "print(Reward)\n",
    "# Just checking if moving into a terminal state yields a reward - it does\n",
    "print(reward)\n",
    "\n",
    "# Order 40-50 reward is typically achieved with this basic approach"
   ]
  },
  {
   "cell_type": "code",
   "execution_count": 21,
   "metadata": {},
   "outputs": [],
   "source": [
    "# In preparation for having a proper model\n",
    "# let us define a random agent\n",
    "# just useful to check that functions are outputting in the\n",
    "# right format\n",
    "def stupid_model(state):\n",
    "    p = (np.random.rand(state.shape[0],2)) \n",
    "    return p"
   ]
  },
  {
   "cell_type": "code",
   "execution_count": 26,
   "metadata": {},
   "outputs": [
    {
     "data": {
      "text/plain": [
       "array([[0.96087131, 0.37424819],\n",
       "       [0.99674897, 0.84090107],\n",
       "       [0.0097913 , 0.67508601],\n",
       "       [0.28496538, 0.04015029],\n",
       "       [0.26777551, 0.29658595],\n",
       "       [0.06055287, 0.16106181],\n",
       "       [0.7970552 , 0.17381991],\n",
       "       [0.29185388, 0.7562931 ],\n",
       "       [0.61567824, 0.3729022 ],\n",
       "       [0.58991585, 0.54906541],\n",
       "       [0.39329651, 0.69207946],\n",
       "       [0.56151422, 0.83284607]])"
      ]
     },
     "execution_count": 26,
     "metadata": {},
     "output_type": "execute_result"
    }
   ],
   "source": [
    "# Defining a batch of states\n",
    "states = np.random.rand(12,4)\n",
    "stupid_model(states)"
   ]
  },
  {
   "cell_type": "code",
   "execution_count": 27,
   "metadata": {},
   "outputs": [],
   "source": [
    "# Numpy-based experience replay buffer\n",
    "class ExperienceBuffer:\n",
    "    def __init__(self,capacity=10):\n",
    "        self.capacity = capacity\n",
    "        self.initial_states = np.zeros((capacity,4))\n",
    "        self.actions = np.zeros(capacity,dtype=np.int)\n",
    "        self.rewards = np.zeros(capacity)\n",
    "        self.final_states = np.zeros((capacity,4))\n",
    "        self.terminal = np.zeros(capacity,dtype=np.int)\n",
    "        self.head = 0\n",
    "        self.full = False\n",
    "        \n",
    "    def collect(self,s,a,r,st,status):\n",
    "        self.initial_states[self.head] = s\n",
    "        self.actions[self.head] = a\n",
    "        self.rewards[self.head] = r\n",
    "        self.final_states[self.head] = st\n",
    "        self.terminal[self.head] = status\n",
    "        self.head = (self.head + 1) % self.capacity\n",
    "        if not self.full:\n",
    "            if self.head == self.capacity-1:\n",
    "                self.full = True\n",
    "        \n",
    "    def batch(self,batch_size):\n",
    "        if self.full:\n",
    "            indices = np.random.choice(self.capacity,batch_size,replace=True)\n",
    "        else:\n",
    "            indices = np.random.choice(self.head+1,batch_size,replace=True)\n",
    "            \n",
    "        return self.initial_states[indices], self.actions[indices], self.rewards[indices],self.final_states[indices],self.terminal[indices]\n",
    "    "
   ]
  },
  {
   "cell_type": "code",
   "execution_count": 29,
   "metadata": {},
   "outputs": [],
   "source": [
    "buffer = ExperienceBuffer(capacity=10)"
   ]
  },
  {
   "cell_type": "code",
   "execution_count": 30,
   "metadata": {},
   "outputs": [],
   "source": [
    "# preparing the training loop (DEBUG)\n",
    "\n",
    "# Get a state from the initialization of the environment, batch-format it\n",
    "state = np.expand_dims(env.reset(),axis=0)\n",
    "\n",
    "# The model outputs the Q-values of action 0 and 1, choose the greedy action\n",
    "action = np.argmax(stupid_model(state))\n",
    "\n",
    "# Take a step and collect data\n",
    "observation, reward, done, info = env.step(action)\n",
    "\n",
    "new_state = np.expand_dims(observation,axis=0)\n",
    "buffer.collect(state,action,reward,new_state,done) # S.A.R.S.DONE ^^"
   ]
  },
  {
   "cell_type": "code",
   "execution_count": 31,
   "metadata": {},
   "outputs": [],
   "source": [
    "# training loop\n",
    "buffer = ExperienceBuffer(capacity=100)\n",
    "state = np.expand_dims(env.reset(),axis=0)\n",
    "for _ in range(100):\n",
    "    action = np.argmax(stupid_model(state))\n",
    "    observation, reward, done, info = env.step(action)\n",
    "    new_state = np.expand_dims(observation,axis=0)\n",
    "    buffer.collect(state,action,reward,new_state,done)\n",
    "\n",
    "    if done:\n",
    "        state=np.expand_dims(env.reset(),axis=0)\n",
    "    else:\n",
    "        state=new_state\n",
    "env.close()"
   ]
  },
  {
   "cell_type": "code",
   "execution_count": 34,
   "metadata": {},
   "outputs": [],
   "source": [
    "# Get a batch of data from the buffer and return the relevant info for training\n",
    "\n",
    "def process_memory(model,discount_rate,initial_states,actions,rewards,final_states,terminal):\n",
    "    # This is supposed to take in the frozen model to predict the curent target\n",
    "    state_values = np.max(model(final_states),axis=-1)\n",
    "    # Q_value(state,action) = Reward(state,action) + gamma * max(Q_value(new_state,:possible_actions:))\n",
    "    targets = rewards + discount_rate*state_values*(1-terminal)\n",
    "    # just for debugging\n",
    "    print(terminal)\n",
    "    return targets,actions,initial_states"
   ]
  },
  {
   "cell_type": "code",
   "execution_count": 38,
   "metadata": {},
   "outputs": [
    {
     "name": "stdout",
     "output_type": "stream",
     "text": [
      "[0 0 0 0 0 0 1 1 0 0 0 0 0 1 0 0 0 0 0 0 0 0 0 0 0 0 0 0 0 0 0 0 0 0 0 0 0\n",
      " 1 0 0 0 0 0 0 0 0 0 0 0 0 0 0 0 0 0 0 0 0 0 0 0 0 0 0 1 0 0 0 0 0 0 0 0 0\n",
      " 0 0 0 0 0 0 0 0 0 0 0 0 0 0 0 0 0 0 0 0 0 0 0 0 1 0]\n",
      "(array([1.30263588, 1.17623111, 1.37854306, 1.46575096, 1.83658349,\n",
      "       1.11756616, 1.        , 1.        , 1.55267605, 1.3221905 ,\n",
      "       1.3763694 , 1.49158356, 1.3424981 , 1.        , 1.65285058,\n",
      "       1.56028362, 1.73348606, 1.56951784, 1.33586989, 1.57246024,\n",
      "       1.38157436, 1.86193137, 1.47374071, 1.81776836, 1.65789553,\n",
      "       1.74990699, 1.81949719, 1.86035395, 1.8266968 , 1.41964905,\n",
      "       1.7431051 , 1.7030732 , 1.76361881, 1.7829401 , 1.86553002,\n",
      "       1.79153358, 1.69862047, 1.        , 1.67795141, 1.6710194 ,\n",
      "       1.68824563, 1.59909808, 1.59142722, 1.69471824, 1.78583074,\n",
      "       1.443022  , 1.15197494, 1.5196541 , 1.50397131, 1.61386717,\n",
      "       1.4012002 , 1.78826764, 1.48688441, 1.70179532, 1.75914264,\n",
      "       1.54426103, 1.7039552 , 1.65447453, 1.18377024, 1.54369003,\n",
      "       1.53495613, 1.25448829, 1.7706057 , 1.84021293, 1.        ,\n",
      "       1.20090986, 1.72755392, 1.68387296, 1.65005186, 1.60890103,\n",
      "       1.82053449, 1.79583258, 1.50407613, 1.86619814, 1.77799033,\n",
      "       1.72479969, 1.88418605, 1.78135935, 1.64293304, 1.65977167,\n",
      "       1.51582995, 1.74708923, 1.46940197, 1.73446557, 1.34178909,\n",
      "       1.36337553, 1.38731647, 1.65303478, 1.79204236, 1.81615156,\n",
      "       1.6702382 , 1.54026317, 1.48014508, 1.78000228, 1.80217929,\n",
      "       1.65599494, 1.23854259, 1.81515392, 1.        , 1.58515432]), array([1, 0, 0, 0, 1, 0, 0, 1, 0, 0, 0, 0, 0, 1, 0, 0, 1, 1, 0, 1, 1, 0,\n",
      "       1, 1, 1, 1, 0, 0, 0, 0, 0, 0, 0, 1, 1, 1, 1, 1, 0, 0, 1, 1, 0, 1,\n",
      "       1, 1, 1, 1, 1, 1, 0, 0, 0, 0, 1, 0, 0, 1, 0, 1, 1, 0, 1, 0, 1, 1,\n",
      "       0, 0, 1, 0, 0, 0, 0, 0, 0, 1, 1, 0, 0, 1, 1, 1, 0, 1, 1, 1, 1, 1,\n",
      "       0, 1, 0, 0, 0, 0, 0, 0, 0, 0, 0, 0]), array([[ 2.29206212e-02, -5.74905498e-01,  2.27352879e-02,\n",
      "         8.82148575e-01],\n",
      "       [-1.48127627e-02, -9.55581789e-03,  2.02754303e-02,\n",
      "         2.56325545e-02],\n",
      "       [ 6.17131149e-02,  1.81440205e-01, -4.00666761e-02,\n",
      "        -2.80077940e-01],\n",
      "       [-3.05164635e-02, -3.85846083e-01,  1.11301647e-01,\n",
      "         7.27059121e-01],\n",
      "       [ 2.99526866e-03,  1.80624481e-01,  4.08945807e-02,\n",
      "        -2.62133086e-01],\n",
      "       [ 5.12434723e-02,  9.87423286e-03, -4.20265635e-02,\n",
      "        -5.61007062e-02],\n",
      "       [-8.49665446e-02, -1.17212084e+00,  2.08869734e-01,\n",
      "         2.05829919e+00],\n",
      "       [ 1.45150785e-01,  9.71865316e-01, -1.85529558e-01,\n",
      "        -1.69401284e+00],\n",
      "       [ 2.77933238e-02,  1.84276417e-02, -4.10472701e-02,\n",
      "        -2.44919400e-01],\n",
      "       [ 4.39186254e-02,  1.46071744e-01,  2.15103564e-02,\n",
      "        -2.87462488e-01],\n",
      "       [-2.28435368e-02, -1.02963842e+00,  1.12715798e-01,\n",
      "         1.58609066e+00],\n",
      "       [-1.91031306e-02, -4.00374260e-01,  2.72809418e-02,\n",
      "         6.23808464e-01],\n",
      "       [-4.98797147e-02, -7.78861984e-01,  1.46894756e-01,\n",
      "         1.38198347e+00],\n",
      "       [-6.79544148e-02, -1.42225934e+00,  1.82671439e-01,\n",
      "         2.24547240e+00],\n",
      "       [ 3.97099659e-02, -2.08370821e-01, -1.22498837e-02,\n",
      "         2.95977079e-01],\n",
      "       [-4.34363052e-02, -1.22590548e+00,  1.44437611e-01,\n",
      "         1.91169140e+00],\n",
      "       [ 1.55092547e-02, -4.03300112e-01,  2.28741619e-02,\n",
      "         5.84462270e-01],\n",
      "       [ 1.55092547e-02, -4.03300112e-01,  2.28741619e-02,\n",
      "         5.84462270e-01],\n",
      "       [ 3.69545830e-02, -4.40847447e-01,  2.43915880e-02,\n",
      "         6.25042954e-01],\n",
      "       [ 4.68400603e-02, -4.93502525e-02,  1.57611067e-02,\n",
      "         1.19262513e-02],\n",
      "       [ 4.43012320e-02,  1.22190481e-02, -3.64010741e-02,\n",
      "        -1.07845871e-01],\n",
      "       [-7.48615300e-02, -9.89340800e-01,  1.15658992e-01,\n",
      "         1.58916694e+00],\n",
      "       [ 2.74762292e-02, -5.98348722e-01,  5.36508901e-03,\n",
      "         8.75453646e-01],\n",
      "       [-1.90642486e-02, -3.83187564e-01,  8.98921152e-02,\n",
      "         6.66778474e-01],\n",
      "       [-9.46483460e-02, -1.18563111e+00,  1.47442331e-01,\n",
      "         1.91556325e+00],\n",
      "       [ 2.74762292e-02, -5.98348722e-01,  5.36508901e-03,\n",
      "         8.75453646e-01],\n",
      "       [ 4.87638984e-02, -4.98043659e-02,  1.04847820e-02,\n",
      "         2.19434914e-02],\n",
      "       [ 4.39186254e-02,  1.46071744e-01,  2.15103564e-02,\n",
      "        -2.87462488e-01],\n",
      "       [ 3.42019530e-02, -1.84435575e-01,  5.18088463e-03,\n",
      "         2.91703882e-01],\n",
      "       [ 3.99785419e-02, -1.34287974e-02, -1.23944915e-02,\n",
      "         7.23039132e-03],\n",
      "       [ 4.39186254e-02,  1.46071744e-01,  2.15103564e-02,\n",
      "        -2.87462488e-01],\n",
      "       [ 3.91684771e-02,  3.99272883e-01, -2.28202312e-02,\n",
      "        -6.22862987e-01],\n",
      "       [-1.91031306e-02, -4.00374260e-01,  2.72809418e-02,\n",
      "         6.23808464e-01],\n",
      "       [ 2.99526866e-03,  1.80624481e-01,  4.08945807e-02,\n",
      "        -2.62133086e-01],\n",
      "       [ 7.44325250e-03, -2.08505929e-01,  3.45634073e-02,\n",
      "         2.99071851e-01],\n",
      "       [ 7.54802557e-02,  5.76765586e-01, -6.91032668e-02,\n",
      "        -9.79096182e-01],\n",
      "       [-9.46483460e-02, -1.18563111e+00,  1.47442331e-01,\n",
      "         1.91556325e+00],\n",
      "       [ 1.45150785e-01,  9.71865316e-01, -1.85529558e-01,\n",
      "        -1.69401284e+00],\n",
      "       [ 4.56387974e-02, -1.79765861e-01, -4.97387585e-02,\n",
      "         1.15856386e-01],\n",
      "       [-6.17322004e-03, -8.33515841e-01,  8.73682930e-02,\n",
      "         1.26737526e+00],\n",
      "       [ 4.41547327e-02, -2.08809541e-01, -1.85083405e-02,\n",
      "         3.05692452e-01],\n",
      "       [ 4.20434802e-02, -3.74141156e-01, -4.74216308e-02,\n",
      "         3.92441581e-01],\n",
      "       [ 3.91684771e-02,  3.99272883e-01, -2.28202312e-02,\n",
      "        -6.22862987e-01],\n",
      "       [ 5.14409570e-02, -1.84620713e-01, -4.31485776e-02,\n",
      "         2.23031936e-01],\n",
      "       [ 4.86227266e-02, -2.09436197e-01, -2.52804222e-02,\n",
      "         3.19575546e-01],\n",
      "       [ 5.14409570e-02, -1.84620713e-01, -4.31485776e-02,\n",
      "         2.23031936e-01],\n",
      "       [ 6.78619551e-02,  3.80915033e-01, -5.57151785e-02,\n",
      "        -6.69404413e-01],\n",
      "       [ 2.81376340e-02, -6.36301268e-01,  3.68924471e-02,\n",
      "         9.25306891e-01],\n",
      "       [ 4.20434802e-02, -3.74141156e-01, -4.74216308e-02,\n",
      "         3.92441581e-01],\n",
      "       [ 6.19979019e-02, -1.42393514e-02, -4.05691550e-02,\n",
      "         2.51239431e-02],\n",
      "       [ 4.76241322e-02,  3.74205339e-01, -2.12933751e-02,\n",
      "        -5.20642851e-01],\n",
      "       [ 2.51871289e-02,  5.69127813e-01,  9.60633738e-03,\n",
      "        -8.08989348e-01],\n",
      "       [ 3.65696852e-02,  3.73875553e-01, -6.57344958e-03,\n",
      "        -5.13300252e-01],\n",
      "       [ 2.81618766e-02, -1.76084727e-01, -4.59456581e-02,\n",
      "         3.45388822e-02],\n",
      "       [ 1.02470417e-01,  9.68872689e-01, -1.14538393e-01,\n",
      "        -1.61173854e+00],\n",
      "       [ 6.53419190e-02, -1.30879737e-02, -4.56682349e-02,\n",
      "        -2.96304028e-04],\n",
      "       [ 6.06939658e-02,  1.83890215e-01, -4.07033828e-02,\n",
      "        -3.34163136e-01],\n",
      "       [ 2.99526866e-03,  1.80624481e-01,  4.08945807e-02,\n",
      "        -2.62133086e-01],\n",
      "       [ 4.45456130e-02,  2.07843212e-01, -3.85579915e-02,\n",
      "        -4.11787283e-01],\n",
      "       [ 4.41547327e-02, -2.08809541e-01, -1.85083405e-02,\n",
      "         3.05692452e-01],\n",
      "       [ 4.41547327e-02, -2.08809541e-01, -1.85083405e-02,\n",
      "         3.05692452e-01],\n",
      "       [ 2.77933238e-02,  1.84276417e-02, -4.10472701e-02,\n",
      "        -2.44919400e-01],\n",
      "       [ 7.44325250e-03, -2.08505929e-01,  3.45634073e-02,\n",
      "         2.99071851e-01],\n",
      "       [ 6.53419190e-02, -1.30879737e-02, -4.56682349e-02,\n",
      "        -2.96304028e-04],\n",
      "       [ 1.45150785e-01,  9.71865316e-01, -1.85529558e-01,\n",
      "        -1.69401284e+00],\n",
      "       [ 4.43012320e-02,  1.22190481e-02, -3.64010741e-02,\n",
      "        -1.07845871e-01],\n",
      "       [ 3.91684771e-02,  3.99272883e-01, -2.28202312e-02,\n",
      "        -6.22862987e-01],\n",
      "       [ 3.82051929e-03, -1.85565274e-01,  5.23122363e-02,\n",
      "         3.17003183e-01],\n",
      "       [ 3.49184701e-02,  8.57792362e-03, -1.57694040e-02,\n",
      "        -2.74625115e-02],\n",
      "       [ 6.57767885e-03, -6.37544944e-01,  6.82874304e-02,\n",
      "         9.54043128e-01],\n",
      "       [ 4.87638984e-02, -4.98043659e-02,  1.04847820e-02,\n",
      "         2.19434914e-02],\n",
      "       [ 4.28663091e-02, -5.01104202e-02,  1.72819711e-02,\n",
      "         2.86978807e-02],\n",
      "       [ 1.72298077e-02, -5.64967723e-01, -3.90073042e-02,\n",
      "         5.90453303e-01],\n",
      "       [ 5.12434723e-02,  9.87423286e-03, -4.20265635e-02,\n",
      "        -5.61007062e-02],\n",
      "       [ 6.57767885e-03, -6.37544944e-01,  6.82874304e-02,\n",
      "         9.54043128e-01],\n",
      "       [ 2.81376340e-02, -6.36301268e-01,  3.68924471e-02,\n",
      "         9.25306891e-01],\n",
      "       [ 3.13388036e-02, -1.77273989e-01, -4.22631216e-02,\n",
      "         6.07925763e-02],\n",
      "       [-4.70540052e-02, -5.97186525e-01,  7.11568203e-02,\n",
      "         9.55472682e-01],\n",
      "       [ 3.82051929e-03, -1.85565274e-01,  5.23122363e-02,\n",
      "         3.17003183e-01],\n",
      "       [-2.71106158e-02, -5.95866267e-01,  3.97571111e-02,\n",
      "         9.24956961e-01],\n",
      "       [ 7.54802557e-02,  5.76765586e-01, -6.91032668e-02,\n",
      "        -9.79096182e-01],\n",
      "       [-1.90642486e-02, -3.83187564e-01,  8.98921152e-02,\n",
      "         6.66778474e-01],\n",
      "       [ 4.87638984e-02, -4.98043659e-02,  1.04847820e-02,\n",
      "         2.19434914e-02],\n",
      "       [ 2.29206212e-02, -5.74905498e-01,  2.27352879e-02,\n",
      "         8.82148575e-01],\n",
      "       [ 4.20434802e-02, -3.74141156e-01, -4.74216308e-02,\n",
      "         3.92441581e-01],\n",
      "       [ 1.02470417e-01,  9.68872689e-01, -1.14538393e-01,\n",
      "        -1.61173854e+00],\n",
      "       [ 4.48933199e-02, -4.87347235e-02,  2.15434339e-02,\n",
      "        -1.65387342e-03],\n",
      "       [ 5.93045325e-03, -7.59522434e-01, -2.71982381e-02,\n",
      "         8.70598137e-01],\n",
      "       [ 4.71539348e-02,  2.04476878e-01, -3.52774910e-02,\n",
      "        -3.37453624e-01],\n",
      "       [ 2.74762292e-02, -5.98348722e-01,  5.36508901e-03,\n",
      "         8.75453646e-01],\n",
      "       [-3.82333852e-02, -5.82316475e-01,  1.25842829e-01,\n",
      "         1.05259634e+00],\n",
      "       [ 4.58530552e-02,  1.45542159e-01,  1.59996317e-02,\n",
      "        -2.75742483e-01],\n",
      "       [-3.05164635e-02, -3.85846083e-01,  1.11301647e-01,\n",
      "         7.27059121e-01],\n",
      "       [ 3.97099659e-02, -2.08370821e-01, -1.22498837e-02,\n",
      "         2.95977079e-01],\n",
      "       [ 6.60775828e-03,  3.75139549e-01,  3.56519190e-02,\n",
      "        -5.41642092e-01],\n",
      "       [ 3.82051929e-03, -1.85565274e-01,  5.23122363e-02,\n",
      "         3.17003183e-01],\n",
      "       [ 6.17131149e-02,  1.81440205e-01, -4.00666761e-02,\n",
      "        -2.80077940e-01],\n",
      "       [ 3.05132415e-02, -3.79631013e-01,  1.10149623e-02,\n",
      "         5.86016283e-01],\n",
      "       [-8.49665446e-02, -1.17212084e+00,  2.08869734e-01,\n",
      "         2.05829919e+00],\n",
      "       [-6.17322004e-03, -8.33515841e-01,  8.73682930e-02,\n",
      "         1.26737526e+00]]))\n",
      "[0 0 0 0 0 0 0 0 0 0]\n"
     ]
    }
   ],
   "source": [
    "print(process_memory(stupid_model,0.9,*buffer.batch(100)))\n",
    "targets,actions,initial_states = process_memory(stupid_model,0.9,*buffer.batch(10))\n",
    "# Note that the target is exactly 1 for next-to-terminal states while 1+Q for the rest"
   ]
  },
  {
   "cell_type": "code",
   "execution_count": 28,
   "metadata": {},
   "outputs": [
    {
     "data": {
      "text/plain": [
       "(array([0.2767306 , 0.89816115]), 1, 0.8981611544737925)"
      ]
     },
     "execution_count": 28,
     "metadata": {},
     "output_type": "execute_result"
    }
   ],
   "source": [
    "# preparing for learning: getting the Q of the state\n",
    "predicted_values = stupid_model(initial_states)\n",
    "# getting a batch of actions\n",
    "predicted_chosen_values = predicted_values[np.arange(10),actions]\n",
    "# consistency check\n",
    "predicted_values[0],actions[0],predicted_chosen_values[0]"
   ]
  },
  {
   "cell_type": "code",
   "execution_count": 39,
   "metadata": {},
   "outputs": [],
   "source": [
    "# Just to get the structure and input dimensions rights: fake training step\n",
    "def train_on_batch(model_to_train,target_model,batch_size,experience_buffer):\n",
    "    # Collect experience and prepare predictions and targets\n",
    "    experience = experience_buffer.batch(batch_size)\n",
    "    targets,actions,initial_states = process_memory(target_model,0.9,*experience)\n",
    "    # start tracking gradients if needed, empty gradient buffers\n",
    "    predicted_values = model_to_train(initial_states)[np.arange(batch_size),actions]\n",
    "    loss = (predicted_values-targets)**2\n",
    "    # apply gradient descent\n",
    "    return loss"
   ]
  },
  {
   "cell_type": "code",
   "execution_count": 40,
   "metadata": {},
   "outputs": [
    {
     "name": "stdout",
     "output_type": "stream",
     "text": [
      "[0 0 0 0 0 0 0 0 0 0]\n"
     ]
    },
    {
     "data": {
      "text/plain": [
       "array([1.67552306, 0.07292392, 1.17951644, 1.58473372, 1.51846715,\n",
       "       0.15909019, 1.90647356, 1.68883088, 1.29680662, 0.99805607])"
      ]
     },
     "execution_count": 40,
     "metadata": {},
     "output_type": "execute_result"
    }
   ],
   "source": [
    "train_on_batch(stupid_model,stupid_model,10,buffer)"
   ]
  },
  {
   "cell_type": "markdown",
   "metadata": {},
   "source": [
    "# Redoing it with NNs"
   ]
  },
  {
   "cell_type": "code",
   "execution_count": 43,
   "metadata": {},
   "outputs": [],
   "source": [
    "class QNet(nn.Module):\n",
    "\n",
    "    def __init__(self):\n",
    "        super(QNet, self).__init__()\n",
    "        # an affine operation: y = Wx + b\n",
    "        self.fc1 = nn.Linear(4, 50)\n",
    "        self.fc2 = nn.Linear(50, 50)\n",
    "        self.fc3 = nn.Linear(50, 2)\n",
    "#       self.bn1 = nn.BatchNorm1d(4)\n",
    "#       Batch norm is actually a bad idea: the states are correlated and trying to force them to be normal\n",
    "#       probably hurts (as seen when testing)\n",
    "\n",
    "    def forward(self, x):\n",
    "#        x = self.bn1(x)\n",
    "        x = torch.relu(self.fc1(x))\n",
    "        x = torch.relu(self.fc2(x))\n",
    "        x = torch.relu(self.fc3(x))\n",
    "        return x\n",
    "\n",
    "# The target network is the same but non-trainable\n",
    "class QNetStatic(QNet):\n",
    "\n",
    "    def __init__(self):\n",
    "        super(QNetStatic, self).__init__()       \n",
    "        for param in self.parameters():\n",
    "            param.requires_grad=False"
   ]
  },
  {
   "cell_type": "code",
   "execution_count": 45,
   "metadata": {},
   "outputs": [
    {
     "name": "stdout",
     "output_type": "stream",
     "text": [
      "tensor([[0.1788, 0.0000],\n",
      "        [0.1781, 0.0000],\n",
      "        [0.1862, 0.0000],\n",
      "        [0.1455, 0.0000],\n",
      "        [0.1913, 0.0000],\n",
      "        [0.1739, 0.0000],\n",
      "        [0.1555, 0.0000],\n",
      "        [0.1903, 0.0000],\n",
      "        [0.1522, 0.0000],\n",
      "        [0.1957, 0.0000]], grad_fn=<ReluBackward0>)\n",
      "tensor([[0.1788, 0.0000],\n",
      "        [0.1781, 0.0000],\n",
      "        [0.1862, 0.0000],\n",
      "        [0.1455, 0.0000],\n",
      "        [0.1913, 0.0000],\n",
      "        [0.1739, 0.0000],\n",
      "        [0.1555, 0.0000],\n",
      "        [0.1903, 0.0000],\n",
      "        [0.1522, 0.0000],\n",
      "        [0.1957, 0.0000]])\n"
     ]
    }
   ],
   "source": [
    "# testing instantiation and synchronization\n",
    "training_qnet = QNet()\n",
    "target_qnet = QNetStatic()\n",
    "target_qnet.load_state_dict(training_qnet.state_dict())\n",
    "\n",
    "# Checking that the output is the same but that no gradient function is generated in the target net\n",
    "x=torch.tensor(np.random.uniform(0,1,(10,4)).astype(np.float32),requires_grad=False)\n",
    "print(training_qnet(x))\n",
    "print(target_qnet(x))"
   ]
  },
  {
   "cell_type": "code",
   "execution_count": 46,
   "metadata": {},
   "outputs": [],
   "source": [
    "# Torch version of the experience buffer\n",
    "class ExperienceBuffer:\n",
    "    def __init__(self,capacity=10):\n",
    "        self.capacity = capacity\n",
    "        self.initial_states = torch.zeros((capacity,4),requires_grad=False)\n",
    "        self.actions = torch.zeros(capacity,dtype=np.int,requires_grad=False)\n",
    "        self.rewards = torch.zeros(capacity,requires_grad=False)\n",
    "        self.final_states = torch.zeros((capacity,4),requires_grad=False)\n",
    "        self.terminal = torch.zeros(capacity,dtype=np.int,requires_grad=False)\n",
    "        self.head = 0\n",
    "        self.full = False\n",
    "        \n",
    "    def collect(self,s,a,r,st,status):\n",
    "        self.initial_states[self.head] = s\n",
    "        self.actions[self.head] = a\n",
    "        self.rewards[self.head] = r\n",
    "        self.final_states[self.head] = st\n",
    "        self.terminal[self.head] = status\n",
    "        self.head = (self.head + 1) % self.capacity\n",
    "        if not self.full:\n",
    "            if self.head == self.capacity-1:\n",
    "                self.full = True\n",
    "        \n",
    "    def batch(self,batch_size):\n",
    "        if self.full:\n",
    "            indices = torch.randint(0, self.capacity, (batch_size,))\n",
    "        else:\n",
    "            indices = torch.randint(0, self.head+1, (batch_size,))\n",
    "        return self.initial_states[indices], self.actions[indices], self.rewards[indices],self.final_states[indices],self.terminal[indices]\n",
    "    "
   ]
  },
  {
   "cell_type": "code",
   "execution_count": 47,
   "metadata": {},
   "outputs": [
    {
     "data": {
      "text/plain": [
       "(tensor([[-0.0068, -0.6052,  0.0335,  0.8470],\n",
       "         [-0.0880, -0.4182,  0.1542,  0.7397]]),\n",
       " tensor([1, 1]),\n",
       " tensor([1., 1.]),\n",
       " tensor([[-0.0189, -0.4106,  0.0504,  0.5650],\n",
       "         [-0.0963, -0.2255,  0.1689,  0.4992]]),\n",
       " tensor([0, 0]))"
      ]
     },
     "execution_count": 47,
     "metadata": {},
     "output_type": "execute_result"
    }
   ],
   "source": [
    "# training loop\n",
    "# Checking the buffer and np-torch conversions\n",
    "\n",
    "buffer = ExperienceBuffer(capacity=1000)\n",
    "state = np.expand_dims(env.reset(),axis=0)\n",
    "for _ in range(100):\n",
    "    action = np.argmax(stupid_model(state))\n",
    "    observation, reward, done, info = env.step(action)\n",
    "    new_state = np.expand_dims(observation,axis=0)\n",
    "    buffer.collect(torch.tensor(state,dtype=torch.float32),torch.tensor(action,dtype=torch.int32),reward,torch.tensor(new_state,dtype=torch.float32),done)\n",
    "\n",
    "    if done:\n",
    "        state=np.expand_dims(env.reset(),axis=0)\n",
    "    else:\n",
    "        state=new_state\n",
    "env.close()\n",
    "buffer.batch(2)"
   ]
  },
  {
   "cell_type": "code",
   "execution_count": 48,
   "metadata": {},
   "outputs": [],
   "source": [
    "def process_memory(model,discount_rate,initial_states,actions,rewards,final_states,terminal):\n",
    "    predictions = model(final_states)\n",
    "    state_values = torch.max(predictions,axis=-1)\n",
    "    targets = rewards + discount_rate*(1.-terminal)*state_values.values\n",
    "    return targets,actions,initial_states"
   ]
  },
  {
   "cell_type": "code",
   "execution_count": 49,
   "metadata": {},
   "outputs": [],
   "source": [
    "target_qnet = QNetStatic()"
   ]
  },
  {
   "cell_type": "code",
   "execution_count": 52,
   "metadata": {},
   "outputs": [
    {
     "name": "stdout",
     "output_type": "stream",
     "text": [
      "tensor([1.1073, 1.0740, 1.0687, 1.0949, 1.0740, 1.0786, 1.0743, 1.0743, 1.0740,\n",
      "        1.0741]) tensor([0, 0, 0, 1, 0, 1, 0, 0, 0, 1]) tensor([[ 3.4116e-02, -7.8092e-01,  2.1437e-02,  1.1632e+00],\n",
      "        [ 5.6829e-03, -2.1444e-01,  1.7549e-02,  2.4913e-01],\n",
      "        [ 1.6968e-02, -5.5635e-03,  6.0202e-03,  1.0557e-01],\n",
      "        [ 4.5331e-03,  3.8264e-01,  3.7582e-02, -4.3520e-01],\n",
      "        [ 1.8158e-02, -2.1431e-01,  1.8272e-03,  2.4642e-01],\n",
      "        [ 7.7056e-04,  1.8812e-01,  4.0694e-02, -1.5563e-01],\n",
      "        [ 3.5315e-02, -2.1475e-01, -1.8136e-02,  2.5607e-01],\n",
      "        [ 2.1473e-02, -1.9552e-01, -8.6468e-03,  2.8431e-01],\n",
      "        [ 5.6829e-03, -2.1444e-01,  1.7549e-02,  2.4913e-01],\n",
      "        [-6.8019e-03, -6.0523e-01,  3.3478e-02,  8.4699e-01]])\n",
      "torch.Size([10, 4])\n"
     ]
    }
   ],
   "source": [
    "# checking input-output for process_memory. Note again that no grad_fn is generated\n",
    "targets,actions,initial_states=process_memory(target_qnet,0.9,*buffer.batch(10))\n",
    "print(targets,actions,initial_states)\n",
    "print(initial_states.shape)"
   ]
  },
  {
   "cell_type": "code",
   "execution_count": 54,
   "metadata": {},
   "outputs": [],
   "source": [
    "# Proper training function\n",
    "def train_nns_on_batch(model_to_train,target_model,batch_size,experience_buffer,discount_rate=0.99,learning_rate=0.01,optimizer=None):\n",
    "    # Collect experience and prepare predictions and targets\n",
    "    experience = experience_buffer.batch(batch_size)\n",
    "    targets,actions,initial_states = process_memory(target_model,discount_rate,*experience)\n",
    "    \n",
    "    # start tracking gradients if needed, empty gradient buffers\n",
    "    model_to_train.train()\n",
    "    model_to_train.zero_grad()\n",
    "    predicted_values = model_to_train(initial_states)[torch.arange(batch_size),actions]\n",
    "    loss = torch.mean((predicted_values-targets)**2)\n",
    "    # Compute gradients\n",
    "    loss.backward()\n",
    "    # apply gradient descent (basic sgd) - turns out to work quite well \n",
    "    if optimizer is None:\n",
    "        for param in model_to_train.parameters():\n",
    "            old_data=param.data.clone()\n",
    "            param.data.sub_(param.grad.data * learning_rate)\n",
    "    else:\n",
    "        optimizer.step()\n",
    "    \n",
    "    # We're returning a lot of data for debugging\n",
    "    return loss,experience,targets,actions,initial_states"
   ]
  },
  {
   "cell_type": "code",
   "execution_count": 55,
   "metadata": {},
   "outputs": [
    {
     "name": "stdout",
     "output_type": "stream",
     "text": [
      "tensor([ 0.0326,  0.0205, -0.0029, -0.0172]) tensor(0) 1.0 tensor([ 0.0331, -0.1745, -0.0032,  0.2746]) False\n",
      "\n",
      "Buffer full: False\n"
     ]
    },
    {
     "data": {
      "text/plain": [
       "tensor(0.3979, grad_fn=<MeanBackward0>)"
      ]
     },
     "execution_count": 55,
     "metadata": {},
     "output_type": "execute_result"
    }
   ],
   "source": [
    "# checking the training function\n",
    "buffer = ExperienceBuffer(capacity=10)\n",
    "state =torch.tensor( (env.reset().astype(np.float32)),requires_grad=False)\n",
    "training_qnet = QNet()\n",
    "target_qnet = QNetStatic()\n",
    "target_qnet.load_state_dict(training_qnet.state_dict())\n",
    "target_qnet.eval()\n",
    "# content of the loop\n",
    "\n",
    "training_qnet.eval()\n",
    "action=(torch.argmax(training_qnet(state.reshape(1,4))))\n",
    "observation, reward, done, info = env.step(action.numpy())\n",
    "new_state = torch.tensor( (observation.astype(np.float32)),requires_grad=False)\n",
    "print(state,action,reward,new_state,done)\n",
    "buffer.collect(state,action,torch.tensor(reward,dtype=torch.float32,requires_grad=False),new_state,done)\n",
    "if done:\n",
    "    torch.tensor( (env.reset().astype(np.float32)),requires_grad=False)\n",
    "else:\n",
    "    state=new_state\n",
    "\n",
    "print(\"\\nBuffer full: \"+str(buffer.full))\n",
    "\n",
    "loss,experience,targets,actions,initial_states=train_nns_on_batch(training_qnet,target_qnet,5,buffer)\n",
    "loss"
   ]
  },
  {
   "cell_type": "code",
   "execution_count": 56,
   "metadata": {},
   "outputs": [
    {
     "data": {
      "application/vnd.jupyter.widget-view+json": {
       "model_id": "8a50d2a6044f463187aad1fc61741b5e",
       "version_major": 2,
       "version_minor": 0
      },
      "text/plain": [
       "HBox(children=(FloatProgress(value=0.0, max=20000.0), HTML(value='')))"
      ]
     },
     "metadata": {},
     "output_type": "display_data"
    },
    {
     "name": "stdout",
     "output_type": "stream",
     "text": [
      "saved state at step 0 for avg reward 0.90\n",
      "saved state at step 2 for avg reward 1.81\n",
      "saved state at step 3 for avg reward 2.83\n",
      "saved state at step 4 for avg reward 3.45\n",
      "saved state at step 5 for avg reward 4.40\n",
      "saved state at step 6 for avg reward 4.96\n",
      "saved state at step 7 for avg reward 5.47\n",
      "saved state at step 9 for avg reward 6.02\n",
      "saved state at step 10 for avg reward 7.02\n",
      "saved state at step 12 for avg reward 7.92\n",
      "saved state at step 14 for avg reward 9.42\n",
      "saved state at step 17 for avg reward 10.48\n",
      "saved state at step 20 for avg reward 12.83\n",
      "saved state at step 368 for avg reward 14.30\n",
      "saved state at step 400 for avg reward 15.80\n",
      "saved state at step 503 for avg reward 18.03\n",
      "saved state at step 557 for avg reward 20.36\n",
      "saved state at step 593 for avg reward 25.87\n",
      "saved state at step 602 for avg reward 33.08\n",
      "saved state at step 621 for avg reward 37.23\n",
      "saved state at step 649 for avg reward 42.88\n",
      "saved state at step 803 for avg reward 49.35\n",
      "saved state at step 819 for avg reward 55.87\n",
      "saved state at step 878 for avg reward 62.76\n",
      "saved state at step 1086 for avg reward 73.88\n",
      "saved state at step 1101 for avg reward 81.90\n",
      "saved state at step 1207 for avg reward 96.28\n",
      "saved state at step 1257 for avg reward 106.33\n",
      "saved state at step 1456 for avg reward 117.93\n",
      "saved state at step 1506 for avg reward 143.27\n",
      "saved state at step 1591 for avg reward 183.57\n",
      "saved state at step 1713 for avg reward 230.10\n",
      "saved state at step 1884 for avg reward 258.68\n",
      "saved state at step 2017 for avg reward 287.59\n",
      "saved state at step 2408 for avg reward 324.05\n",
      "saved state at step 12603 for avg reward 363.43\n",
      "saved state at step 12753 for avg reward 400.17\n",
      "saved state at step 13003 for avg reward 440.64\n",
      "saved state at step 15454 for avg reward 484.88\n",
      "\n"
     ]
    },
    {
     "data": {
      "image/png": "[encoded data removed]",
      "text/plain": [
       "<Figure size 432x288 with 1 Axes>"
      ]
     },
     "metadata": {
      "needs_background": "light"
     },
     "output_type": "display_data"
    },
    {
     "data": {
      "image/png": "[encoded data removed]",
      "text/plain": [
       "<Figure size 432x288 with 1 Axes>"
      ]
     },
     "metadata": {
      "needs_background": "light"
     },
     "output_type": "display_data"
    }
   ],
   "source": [
    "# Running the training function\n",
    "\n",
    "# Initialization of the main objects\n",
    "buffer = ExperienceBuffer(capacity=100000)\n",
    "training_qnet = QNet()\n",
    "target_qnet = QNetStatic()\n",
    "target_qnet.load_state_dict(training_qnet.state_dict())\n",
    "# Double ensure that no training is even attempted on the target\n",
    "target_qnet.eval()\n",
    "\n",
    "# My short experience: tuning the lr of basic, hand-applied SGD, is easier than advanced stuff - for this task\n",
    "optimizer = None #torch.optim.RMSprop(training_qnet.parameters(),lr=0.0001,eps=0.1,alpha=0.9)\n",
    "\n",
    "# Hyper-parameters: target refresh rate and greediness\n",
    "C = 20\n",
    "epsilon=0.1\n",
    "\n",
    "\n",
    "# Pretty progress bar\n",
    "progress_bar = tqdm(range(20000))\n",
    "###############\n",
    "# Telemetry\n",
    "\n",
    "# For plotting\n",
    "history = {'loss':[],'avg_reward':[]}\n",
    "\n",
    "# episode length\n",
    "current_run = 0\n",
    "# Top episode length (to schedule saves)\n",
    "longest_run = 0\n",
    "\n",
    "# running avg length with an update weigh\n",
    "avg_run = 0\n",
    "weight = 0.1\n",
    "\n",
    "# Top averaged length (to smooth out fluctuations)\n",
    "best_avg = 0\n",
    "\n",
    "# NN states to replay performance along the training\n",
    "saved_states = [training_qnet.state_dict()]\n",
    "\n",
    "state =torch.tensor( (env.reset().astype(np.float32)),requires_grad=False)\n",
    "\n",
    "for j in progress_bar:\n",
    "    # Fill up 10 epsilon-greedy runs following the Q-net\n",
    "    # We are not training now\n",
    "    training_qnet.eval()\n",
    "    for i in range(10):\n",
    "        # Epsilon-greedy run\n",
    "        if np.random.rand()<epsilon:\n",
    "            action = torch.tensor(env.action_space.sample(),dtype=torch.int32)\n",
    "        else:\n",
    "            action=(torch.argmax(training_qnet(state.reshape(1,4))))\n",
    "        # Take the action, observe the result and memorize it all\n",
    "        observation, reward, done, info = env.step(action.numpy())\n",
    "        new_state = torch.tensor( (observation.astype(np.float32)),requires_grad=False)\n",
    "        buffer.collect(state,action,torch.tensor(reward,dtype=torch.float32,requires_grad=False),new_state,done)\n",
    "        #print(state,action,reward,new_state,done)\n",
    "        \n",
    "        if done:\n",
    "            # At episode end, reset, update metrics\n",
    "            torch.tensor( (env.reset().astype(np.float32)),requires_grad=False)\n",
    "            longest_run = max(longest_run,current_run)\n",
    "            avg_run = current_run*weight + avg_run*(1-weight)\n",
    "\n",
    "            # if we improved 10% over the last best perf, update best perf and save\n",
    "            if avg_run > 1.1*best_avg:\n",
    "                best_avg = avg_run\n",
    "                saved_states.append(deepcopy(training_qnet.state_dict()))\n",
    "                print(\"saved state at step {j} for avg reward {avg_run:.2f}\".format(j=j,avg_run=avg_run))\n",
    "            # Reset epsiode lenght counter\n",
    "            current_run=0\n",
    "        else:\n",
    "            state=new_state\n",
    "            current_run+=1\n",
    "        \n",
    "    # Take one gradient step on a batch\n",
    "    loss,_,_,_,_ = train_nns_on_batch(training_qnet,target_qnet,10000,buffer,discount_rate=0.999,learning_rate=0.01,optimizer=optimizer)\n",
    "    \n",
    "    # Log plot metrics\n",
    "    history['loss'].append(loss)\n",
    "    history['avg_reward'].append(avg_run)\n",
    "    \n",
    "    # update progress bar with metrics for impatient observers\n",
    "    progress_bar.set_description(\"Loss = {0:.2f} | MAVG {1} | AVG {2}\".format(loss,int(best_avg), int(avg_run)))\n",
    "\n",
    "    # Every C steps, update the target\n",
    "    if j%C==0:\n",
    "        target_qnet.load_state_dict(training_qnet.state_dict())        \n",
    "\n",
    "env.reset()\n",
    "env.close()\n",
    "\n",
    "plt.plot(history['loss'])\n",
    "plt.show()\n",
    "plt.plot(history['avg_reward'])\n",
    "plt.show()\n"
   ]
  },
  {
   "cell_type": "code",
   "execution_count": 68,
   "metadata": {},
   "outputs": [
    {
     "name": "stdout",
     "output_type": "stream",
     "text": [
      "499\n"
     ]
    }
   ],
   "source": [
    "#training_qnet.load_state_dict(saved_states[-1])\n",
    "training_qnet.eval()\n",
    "state =torch.tensor( (env.reset().astype(np.float32)),requires_grad=False)\n",
    "for i in range(500):\n",
    "    action=(torch.argmax(training_qnet(state.reshape(1,4))))\n",
    "\n",
    "    observation, reward, done, info = env.step(action.numpy())\n",
    "    new_state = torch.tensor( (observation.astype(np.float32)),requires_grad=False)\n",
    "    if done:\n",
    "        torch.tensor( (env.reset().astype(np.float32)),requires_grad=False)\n",
    "        print(i)\n",
    "    else:\n",
    "        state=new_state\n",
    "    env.render()\n",
    "env.close()"
   ]
  },
  {
   "cell_type": "code",
   "execution_count": 25,
   "metadata": {},
   "outputs": [
    {
     "name": "stdout",
     "output_type": "stream",
     "text": [
      "499\n"
     ]
    }
   ],
   "source": [
    "# Output a nice video\n",
    "video_env = wrappers.Monitor(env, './videos/' + str(time()) + '/')\n",
    "\n",
    "training_qnet.load_state_dict(saved_states[-1])\n",
    "training_qnet.eval()\n",
    "\n",
    "state =torch.tensor( (video_env.reset().astype(np.float32)),requires_grad=False)\n",
    "for i in range(500):\n",
    "\n",
    "        action=(torch.argmax(training_qnet(state.reshape(1,4))))\n",
    "\n",
    "        observation, reward, done, info = video_env.step(action.numpy())\n",
    "        new_state = torch.tensor( (observation.astype(np.float32)),requires_grad=False)\n",
    "        if done:\n",
    "            print(i)\n",
    "            break\n",
    "            #torch.tensor( (video_env.reset().astype(np.float32)),requires_grad=False)\n",
    "        else:\n",
    "            state=new_state\n",
    "video_env.close()"
   ]
  },
  {
   "cell_type": "code",
   "execution_count": 132,
   "metadata": {},
   "outputs": [],
   "source": [
    "# save the model state to rebuild later\n",
    "torch.save(saved_states[-1],\"./model_state_1\")"
   ]
  },
  {
   "cell_type": "code",
   "execution_count": 12,
   "metadata": {},
   "outputs": [
    {
     "data": {
      "text/plain": [
       "<All keys matched successfully>"
      ]
     },
     "execution_count": 12,
     "metadata": {},
     "output_type": "execute_result"
    }
   ],
   "source": [
    "# load a saved state\n",
    "training_qnet.load_state_dict(torch.load(\"./model_state_1\"))"
   ]
  }
 ],
 "metadata": {
  "kernelspec": {
   "display_name": "Python 3",
   "language": "python",
   "name": "python3"
  },
  "language_info": {
   "codemirror_mode": {
    "name": "ipython",
    "version": 3
   },
   "file_extension": ".py",
   "mimetype": "text/x-python",
   "name": "python",
   "nbconvert_exporter": "python",
   "pygments_lexer": "ipython3",
   "version": "3.7.6"
  }
 },
 "nbformat": 4,
 "nbformat_minor": 4
}
