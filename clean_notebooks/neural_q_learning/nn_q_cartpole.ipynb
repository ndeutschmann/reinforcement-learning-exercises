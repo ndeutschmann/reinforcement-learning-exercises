{
 "cells": [
  {
   "cell_type": "markdown",
   "metadata": {},
   "source": [
    "# Neural Q-learning"
   ]
  },
  {
   "cell_type": "markdown",
   "metadata": {},
   "source": [
    "## Basic Q-learning"
   ]
  },
  {
   "cell_type": "markdown",
   "metadata": {},
   "source": [
    "\\[TODO: ADD REFERENCES\\]\n",
    "\n",
    "Let us consider a reinforcement learning problem consisting of an agent $A$ interacting with an environment $\\text{env}$: the environment is in a state $s$, observed by the agent, which in turns takes an action $a$ following a policy $\\pi(s)$ which might be deterministic (in which case $\\pi$ is a function of the state space) or stochastic ($\\pi(s)$ is then a probability distribution over the action space at state $s$). In response, the environment gives a reward $r$ to the agent, evolves to state $s'= env(s,a)$ (either stochastically or deterministically) and either terminates or awaits a new action from the agent.\n",
    "\n",
    "A given policy allows us to attribute a value to each state as the total expected reward when following the policy, including a discount rate $\\gamma$ to accomodate un-terminating processes:\n",
    "$$v_\\pi (s) =\\mathbb{E}\\left(\\sum_{k=0}^\\infty \\gamma^k r_k\\right),\\qquad a_i\\sim \\pi(s_i),\\ s_{i+1}\\sim \\text{env}(a_i,s_i),\\ r_i = \\text{reward}(s_i,a_i),$$\n",
    "where we include finite episodes by making final states stationary and yield 0 reward whatever the action.\n",
    "\n",
    "If we have a given policy $\\pi$ and want to improve, we need to be able to \"look around\". This motivates the introduction of the Q-value function, which quantifies the value not following the policy for one step:\n",
    "\n",
    "$$Q(s,a) = \\text{reward}(s,a) + \\gamma v_\\pi(\\text{env}(s,a))$$\n",
    "\n",
    "In the case of an environment with a finite number of states and actions, Policy Improvement uses this function to steadily evolve the policy toward a better one: we just need to tabulate the possible rewards ands evolutions and replace $\\pi(s)$ by $\\underset{a}{\\text{argmax}} Q(s,a)$. This always yields a policy at least as good as the previous one.\n",
    "\n",
    "In a case that is too complex to exhaustively tabulate, Q-learning provides a solution. Indeed, inspired by what we have seen before, we can imagine defining an arbitrary Q-function over state-action pairs. From such a function, we can define a greedy deterministic policy as before as $\\pi_Q(s) = \\underset{a}{\\text{argmax}} Q(s,a)$.\n",
    "\n",
    "Of course, for a general function $Q(s,a)$, we have no guarantee that $Q$ is the Q-function of $\\pi_Q$. The consistency condition for this to be the case is \n",
    "\n",
    "$$Q(s,a) =  \\text{reward}(s,a) + \\gamma \\underset{a'}{\\text{max}}Q(\\text{env}(s,a),a')$$\n",
    "\n",
    "In a tabulable environment, usual Q-learning defines a random $Q$ function and follows $\\pi_Q$ in an $\\epsilon$-greedy way (*i.e.* it follows $\\pi_Q$ with probability $1-\\epsilon$ and takes a random action with probability $\\epsilon$). The transition is observed, the reward is collected, and $Q(s,a)$ is updated so that it tends to self-consistency:\n",
    "\n",
    "$$Q(s,a) = (1-\\alpha) Q(s,a) + \\alpha (\\text{reward}(s,a) + \\gamma \\underset{a'}{\\text{max}}Q(\\text{env}(s,a),a'))$$\n",
    "\n",
    "This should converge to a function $Q$ which is the Q-value of its associated greedy policy $\\pi_Q$. Furthermore, if we have an optimal policy $\\pi$, we can always consider its true $Q$ value $Q_\\pi$. If $\\pi$ is optimal, trying to update the policy over the next step using policy improvement should yield the same action as the policy itself, *i.e.* $\\pi^* = \\pi_{Q_\\pi^*}$ and $Q_\\pi$ is the Q-value of its greedy policy. On the other hand, if $Q_\\pi$ is the Q-value of its greedy policy, we have\n",
    "\n",
    "$$Q(s,a) =  \\text{reward}(s,a) + \\gamma \\underset{a'}{\\text{max}}Q(\\text{env}(s,a),a')$$\n",
    "\n",
    "meaning that applying policy improvement yields exactly the same policy.\n",
    "*Note: being stable under policy improvement might not imply global optimality, I need to check this*"
   ]
  },
  {
   "cell_type": "markdown",
   "metadata": {},
   "source": [
    "## Neural Q-learning"
   ]
  },
  {
   "cell_type": "markdown",
   "metadata": {},
   "source": [
    "In the case where the state space is not tabulable (for example when it is continuous), we"
   ]
  },
  {
   "cell_type": "markdown",
   "metadata": {},
   "source": [
    "# Code and results"
   ]
  },
  {
   "cell_type": "code",
   "execution_count": 1,
   "metadata": {},
   "outputs": [
    {
     "name": "stderr",
     "output_type": "stream",
     "text": [
      "/Users/ndeutsch/code/reinforcement-learning-exercises/venv_rl/lib/python3.7/site-packages/gym/logger.py:30: UserWarning: \u001b[33mWARN: Box bound precision lowered by casting to float32\u001b[0m\n",
      "  warnings.warn(colorize('%s: %s'%('WARN', msg % args), 'yellow'))\n"
     ]
    }
   ],
   "source": [
    "import numpy as np\n",
    "import gym\n",
    "from collections import namedtuple\n",
    "env = gym.make(\"CartPole-v1\")\n",
    "import torch\n",
    "import torch.nn as nn\n",
    "import torch.nn.functional as F\n",
    "from matplotlib import pyplot as plt\n",
    "from tqdm.autonotebook import tqdm\n",
    "from copy import deepcopy\n",
    "from gym import wrappers\n",
    "from time import time\n",
    "from PIL import Image"
   ]
  },
  {
   "cell_type": "markdown",
   "metadata": {},
   "source": [
    "## Implementation"
   ]
  },
  {
   "cell_type": "code",
   "execution_count": 2,
   "metadata": {},
   "outputs": [],
   "source": [
    "class QNet(nn.Module):\n",
    "    def __init__(self):\n",
    "        super(QNet, self).__init__()\n",
    "        self.fc1 = nn.Linear(4, 50)\n",
    "        self.fc2 = nn.Linear(50, 50)\n",
    "        self.fc3 = nn.Linear(50, 2)\n",
    "\n",
    "    def forward(self, x):\n",
    "        x = torch.relu(self.fc1(x))\n",
    "        x = torch.relu(self.fc2(x))\n",
    "        x = torch.relu(self.fc3(x))\n",
    "        return x\n",
    "\n",
    "# The target network is the same but non-trainable\n",
    "class QNetStatic(QNet):\n",
    "\n",
    "    def __init__(self):\n",
    "        super(QNetStatic, self).__init__()       \n",
    "        for param in self.parameters():\n",
    "            param.requires_grad=False"
   ]
  },
  {
   "cell_type": "code",
   "execution_count": 3,
   "metadata": {},
   "outputs": [],
   "source": [
    "# Torch version of the experience buffer\n",
    "class ExperienceBuffer:\n",
    "    def __init__(self,capacity=10):\n",
    "        self.capacity = capacity\n",
    "        self.initial_states = torch.zeros((capacity,4),requires_grad=False)\n",
    "        self.actions = torch.zeros(capacity,dtype=np.int,requires_grad=False)\n",
    "        self.rewards = torch.zeros(capacity,requires_grad=False)\n",
    "        self.final_states = torch.zeros((capacity,4),requires_grad=False)\n",
    "        self.terminal = torch.zeros(capacity,dtype=np.int,requires_grad=False)\n",
    "        self.head = 0\n",
    "        self.full = False\n",
    "        \n",
    "    def collect(self,s,a,r,st,status):\n",
    "        self.initial_states[self.head] = s\n",
    "        self.actions[self.head] = a\n",
    "        self.rewards[self.head] = r\n",
    "        self.final_states[self.head] = st\n",
    "        self.terminal[self.head] = status\n",
    "        self.head = (self.head + 1) % self.capacity\n",
    "        if not self.full:\n",
    "            if self.head == self.capacity-1:\n",
    "                self.full = True\n",
    "        \n",
    "    def batch(self,batch_size):\n",
    "        if self.full:\n",
    "            indices = torch.randint(0, self.capacity, (batch_size,))\n",
    "        else:\n",
    "            indices = torch.randint(0, self.head+1, (batch_size,))\n",
    "        return self.initial_states[indices], self.actions[indices], self.rewards[indices],self.final_states[indices],self.terminal[indices]\n",
    "    "
   ]
  },
  {
   "cell_type": "code",
   "execution_count": 4,
   "metadata": {},
   "outputs": [],
   "source": [
    "def process_memory(model,discount_rate,initial_states,actions,rewards,final_states,terminal):\n",
    "    predictions = model(final_states)\n",
    "    state_values = torch.max(predictions,axis=-1)\n",
    "    targets = rewards + discount_rate*(1.-terminal)*state_values.values\n",
    "    return targets,actions,initial_states"
   ]
  },
  {
   "cell_type": "code",
   "execution_count": 5,
   "metadata": {},
   "outputs": [],
   "source": [
    "def train_nns_on_batch(model_to_train,target_model,batch_size,experience_buffer,discount_rate=0.99,learning_rate=0.01,optimizer=None):\n",
    "    # Collect experience and prepare predictions and targets\n",
    "    experience = experience_buffer.batch(batch_size)\n",
    "    targets,actions,initial_states = process_memory(target_model,discount_rate,*experience)\n",
    "    \n",
    "    # start tracking gradients if needed, empty gradient buffers\n",
    "    model_to_train.train()\n",
    "    model_to_train.zero_grad()\n",
    "    predicted_values = model_to_train(initial_states)[torch.arange(batch_size),actions]\n",
    "    loss = torch.mean((predicted_values-targets)**2)\n",
    "    # Compute gradients\n",
    "    loss.backward()\n",
    "    # apply gradient descent (basic sgd) - turns out to work quite well \n",
    "    if optimizer is None:\n",
    "        for param in model_to_train.parameters():\n",
    "            old_data=param.data.clone()\n",
    "            param.data.sub_(param.grad.data * learning_rate)\n",
    "    else:\n",
    "        optimizer.step()\n",
    "    \n",
    "    # We're returning a lot of data for debugging\n",
    "    return loss"
   ]
  },
  {
   "cell_type": "markdown",
   "metadata": {},
   "source": [
    "## Training"
   ]
  },
  {
   "cell_type": "code",
   "execution_count": 6,
   "metadata": {},
   "outputs": [
    {
     "data": {
      "application/vnd.jupyter.widget-view+json": {
       "model_id": "6051eb8adddf48d593420b7e081001ca",
       "version_major": 2,
       "version_minor": 0
      },
      "text/plain": [
       "HBox(children=(FloatProgress(value=0.0, max=20000.0), HTML(value='')))"
      ]
     },
     "metadata": {},
     "output_type": "display_data"
    },
    {
     "name": "stdout",
     "output_type": "stream",
     "text": [
      "\n"
     ]
    },
    {
     "data": {
      "image/png": "[encoded data removed]",
      "text/plain": [
       "<Figure size 432x288 with 1 Axes>"
      ]
     },
     "metadata": {
      "needs_background": "light"
     },
     "output_type": "display_data"
    },
    {
     "data": {
      "image/png": "[encoded data removed]",
      "text/plain": [
       "<Figure size 432x288 with 1 Axes>"
      ]
     },
     "metadata": {
      "needs_background": "light"
     },
     "output_type": "display_data"
    }
   ],
   "source": [
    "# Running the training function\n",
    "\n",
    "# Initialization of the main objects\n",
    "buffer = ExperienceBuffer(capacity=100000)\n",
    "training_qnet = QNet()\n",
    "target_qnet = QNetStatic()\n",
    "target_qnet.load_state_dict(training_qnet.state_dict())\n",
    "# Double ensure that no training is even attempted on the target\n",
    "target_qnet.eval()\n",
    "\n",
    "# My short experience: tuning the lr of basic, hand-applied SGD, is easier than advanced stuff - for this task\n",
    "optimizer = None #torch.optim.RMSprop(training_qnet.parameters(),lr=0.0001,eps=0.1,alpha=0.9)\n",
    "\n",
    "# Hyper-parameters: target refresh rate and greediness\n",
    "C = 20\n",
    "epsilon=0.1\n",
    "\n",
    "\n",
    "# Pretty progress bar\n",
    "progress_bar = tqdm(range(100000))\n",
    "###############\n",
    "# Telemetry\n",
    "\n",
    "# For plotting\n",
    "history = {'loss':[],'avg_reward':[]}\n",
    "\n",
    "# episode length\n",
    "current_run = 0\n",
    "# Top episode length (to schedule saves)\n",
    "longest_run = 0\n",
    "\n",
    "# running avg length with an update weigh\n",
    "avg_run = 0\n",
    "weight = 0.1\n",
    "\n",
    "# Top averaged length (to smooth out fluctuations)\n",
    "best_avg = 0\n",
    "\n",
    "# NN states to replay performance along the training\n",
    "saved_states = [training_qnet.state_dict()]\n",
    "\n",
    "state =torch.tensor( (env.reset().astype(np.float32)),requires_grad=False)\n",
    "\n",
    "for j in progress_bar:\n",
    "    # Fill up 10 epsilon-greedy runs following the Q-net\n",
    "    # We are not training now\n",
    "    training_qnet.eval()\n",
    "    for i in range(10):\n",
    "        # Epsilon-greedy run\n",
    "        if np.random.rand()<epsilon:\n",
    "            action = torch.tensor(env.action_space.sample(),dtype=torch.int32)\n",
    "        else:\n",
    "            action=(torch.argmax(training_qnet(state.reshape(1,4))))\n",
    "        # Take the action, observe the result and memorize it all\n",
    "        observation, reward, done, info = env.step(action.numpy())\n",
    "        new_state = torch.tensor( (observation.astype(np.float32)),requires_grad=False)\n",
    "        buffer.collect(state,action,torch.tensor(reward,dtype=torch.float32,requires_grad=False),new_state,done)\n",
    "        #print(state,action,reward,new_state,done)\n",
    "        \n",
    "        if done:\n",
    "            # At episode end, reset, update metrics\n",
    "            torch.tensor( (env.reset().astype(np.float32)),requires_grad=False)\n",
    "            longest_run = max(longest_run,current_run)\n",
    "            avg_run = current_run*weight + avg_run*(1-weight)\n",
    "\n",
    "            # if we improved 10% over the last best perf, update best perf and save\n",
    "            if avg_run > 1.1*best_avg:\n",
    "                best_avg = avg_run\n",
    "                saved_states.append(deepcopy(training_qnet.state_dict()))\n",
    "            # Reset epsiode lenght counter\n",
    "            current_run=0\n",
    "        else:\n",
    "            state=new_state\n",
    "            current_run+=1\n",
    "        \n",
    "    # Take one gradient step on a batch\n",
    "    loss = train_nns_on_batch(training_qnet,target_qnet,10000,buffer,discount_rate=0.999,learning_rate=0.01,optimizer=optimizer)\n",
    "    \n",
    "    # Log plot metrics\n",
    "    history['loss'].append(loss)\n",
    "    history['avg_reward'].append(avg_run)\n",
    "    \n",
    "    # update progress bar with metrics for impatient observers\n",
    "    progress_bar.set_description(\"Loss = {0:.2f} | MAVG {1} | AVG {2}\".format(loss,int(best_avg), int(avg_run)))\n",
    "\n",
    "    # Every C steps, update the target\n",
    "    if j%C==0:\n",
    "        target_qnet.load_state_dict(training_qnet.state_dict())        \n",
    "\n",
    "env.reset()\n",
    "env.close()\n",
    "\n",
    "plt.plot(history['loss'])\n",
    "plt.show()\n",
    "plt.plot(history['avg_reward'])\n",
    "plt.show()\n"
   ]
  },
  {
   "cell_type": "markdown",
   "metadata": {},
   "source": [
    "The average reward climbs all the way to very close to 500, which is the point where the episode is terminated if the pole has not fallen.\n",
    "\n",
    "The loss has a behavior that might look suprising as it is trending *up* instead of down as one would expect for training. The reason why this is is that by frequently updating the target network, we keep chasing a moving target. We can therefore expect pattern of steadily decreasing loss followed by jumps when the target is updated, which we can observe by zooming into the loss curve."
   ]
  },
  {
   "cell_type": "code",
   "execution_count": 7,
   "metadata": {},
   "outputs": [
    {
     "data": {
      "image/png": "[encoded data removed]",
      "text/plain": [
       "<Figure size 432x288 with 1 Axes>"
      ]
     },
     "metadata": {
      "needs_background": "light"
     },
     "output_type": "display_data"
    }
   ],
   "source": [
    "plt.plot(history['loss'][:300])\n",
    "plt.show()"
   ]
  },
  {
   "cell_type": "markdown",
   "metadata": {},
   "source": [
    "\n",
    "The overall upward trend, which is driven by the target updates can be understood by looking at how the reward estimates are built. At each step, the target value for the Q-value is $1+\\underset{a}{\\text{max}}Q(s,a)$ or $1$ depending on whether the episode is running or terminating. As we are using Xavier initialization are we start with small values of the inputs, the outputs are expected to be of order $1.$, meaning that the targets are mostly between $1.$ and $2.$ \n",
    "\n",
    "After training for a while, the agent has learned to hold the pole up for longer and so the expected reward for initial positions at least is of the order of the current performance of the agent. \n",
    "As a result, the target for many positions, and *a fortiori* for those that are actually visited by the trained agent keeps growing so that even if the training network keeps following the target within a good margin of error, the squared residual, which we use as a loss, can be expected to grow.\n",
    "\n",
    "One way out of this could be to somehow normalize the loss so that it represents a residual error rate. The first idea would be to divide each residual by the target, but this skews the loss by giving more relative weights to low reward states, we we care the least about estimating properly. In order to not skew the relative weights, an overal factor needs to be applied, such as the average target over the batch. It would be interesting to see if this improves or deters learning:\n",
    "- on the one hand this could stabilize learning rates as the gradient of the loss is proportional to the residual, leading to larger steps at the end of training.\n",
    "- on the other hand, batch to batch fluctuations would lead to the same issue as for normalizing residuals individually: batches with overall lower rewards would gain a relatively larger weight in the training, which is again undesirable."
   ]
  },
  {
   "cell_type": "code",
   "execution_count": null,
   "metadata": {},
   "outputs": [],
   "source": [
    "# save the model state to rebuild later\n",
    "torch.save(saved_states[-1],\"./model_state_1\")\n",
    "# load a saved state\n",
    "training_qnet.load_state_dict(torch.load(\"./model_state_1\"))"
   ]
  },
  {
   "cell_type": "markdown",
   "metadata": {},
   "source": [
    "## Rendering"
   ]
  },
  {
   "cell_type": "markdown",
   "metadata": {},
   "source": [
    "### Native Gym rendering"
   ]
  },
  {
   "cell_type": "code",
   "execution_count": 13,
   "metadata": {},
   "outputs": [
    {
     "name": "stdout",
     "output_type": "stream",
     "text": [
      "499\n"
     ]
    }
   ],
   "source": [
    "training_qnet.load_state_dict(saved_states[-1])\n",
    "training_qnet.eval()\n",
    "state =torch.tensor( (env.reset().astype(np.float32)),requires_grad=False)\n",
    "for i in range(500):\n",
    "    action=(torch.argmax(training_qnet(state.reshape(1,4))))\n",
    "\n",
    "    observation, reward, done, info = env.step(action.numpy())\n",
    "    new_state = torch.tensor( (observation.astype(np.float32)),requires_grad=False)\n",
    "    if done:\n",
    "        torch.tensor( (env.reset().astype(np.float32)),requires_grad=False)\n",
    "        print(i)\n",
    "    else:\n",
    "        state=new_state\n",
    "    env.render()\n",
    "env.close()"
   ]
  },
  {
   "cell_type": "markdown",
   "metadata": {},
   "source": [
    "### MP4 Video Rendering using monitor"
   ]
  },
  {
   "cell_type": "code",
   "execution_count": 72,
   "metadata": {},
   "outputs": [
    {
     "name": "stdout",
     "output_type": "stream",
     "text": [
      "499\n"
     ]
    }
   ],
   "source": [
    "video_env = wrappers.Monitor(env, './videos/' + str(time()) + '/')\n",
    "\n",
    "training_qnet.load_state_dict(saved_states[-1])\n",
    "training_qnet.eval()\n",
    "\n",
    "state =torch.tensor( (video_env.reset().astype(np.float32)),requires_grad=False)\n",
    "for i in range(500):\n",
    "\n",
    "        action=(torch.argmax(training_qnet(state.reshape(1,4))))\n",
    "\n",
    "        observation, reward, done, info = video_env.step(action.numpy())\n",
    "        new_state = torch.tensor( (observation.astype(np.float32)),requires_grad=False)\n",
    "        if done:\n",
    "            print(i)\n",
    "            break\n",
    "            #torch.tensor( (video_env.reset().astype(np.float32)),requires_grad=False)\n",
    "        else:\n",
    "            state=new_state\n",
    "video_env.close()"
   ]
  },
  {
   "cell_type": "markdown",
   "metadata": {},
   "source": [
    "### Generating GIFs using PIL and render(mode='rgb_array')"
   ]
  },
  {
   "cell_type": "code",
   "execution_count": 10,
   "metadata": {},
   "outputs": [],
   "source": [
    "images = [[] for i in range(4)]\n",
    "\n",
    "for k in range(4):\n",
    "    training_qnet.load_state_dict(saved_states[len(saved_states)-1-k*(len(saved_states)-1)//4])\n",
    "    training_qnet.eval()\n",
    "    state =torch.tensor( (env.reset().astype(np.float32)),requires_grad=False)\n",
    "    for i in range(200):\n",
    "        action=(torch.argmax(training_qnet(state.reshape(1,4))))\n",
    "\n",
    "        observation, reward, done, info = env.step(action.numpy())\n",
    "        new_state = torch.tensor( (observation.astype(np.float32)),requires_grad=False)\n",
    "\n",
    "        # Note that here we forgo the usual restarting when the episode is done\n",
    "        # this makes nicer gifs with the pole running wildly before being trained\n",
    "        state=new_state\n",
    "\n",
    "        # env.render(mode='rgb_array') returns a numpy array\n",
    "        images[k].append(Image.fromarray(env.render(mode='rgb_array'))) \n",
    "    env.close()\n",
    "    \n",
    "    \n",
    "for k in range(4):\n",
    "    images[k][0].save('episodes_step_{}.gif'.format(len(saved_states)-k*len(saved_states)//4),\n",
    "               save_all=True, append_images=images[k][1:], optimize=True, duration=20, loop=0)"
   ]
  },
  {
   "cell_type": "code",
   "execution_count": 23,
   "metadata": {
    "scrolled": false
   },
   "outputs": [
    {
     "data": {
      "text/html": [
       "<h1>Step 8</h1> <img src=\"./episodes_step_8.gif\"> <h1>Step 15</h1>  <img src=\"./episodes_step_15.gif\"> <h1>Step 22</h1>  <img src=\"./episodes_step_22.gif\"> <h1>Step 29</h1>  <img src=\"./episodes_step_29.gif\">"
      ],
      "text/plain": [
       "<IPython.core.display.HTML object>"
      ]
     },
     "execution_count": 23,
     "metadata": {},
     "output_type": "execute_result"
    }
   ],
   "source": [
    "from IPython.display import HTML\n",
    "\n",
    "HTML('<h1>Step 8</h1> \\\n",
    "<img src=\"./episodes_step_8.gif\">\\\n",
    " <h1>Step 15</h1> \\\n",
    " <img src=\"./episodes_step_15.gif\">\\\n",
    " <h1>Step 22</h1> \\\n",
    " <img src=\"./episodes_step_22.gif\">\\\n",
    " <h1>Step 29</h1> \\\n",
    " <img src=\"./episodes_step_29.gif\">')"
   ]
  },
  {
   "cell_type": "code",
   "execution_count": null,
   "metadata": {},
   "outputs": [],
   "source": []
  }
 ],
 "metadata": {
  "kernelspec": {
   "display_name": "Python 3",
   "language": "python",
   "name": "python3"
  },
  "language_info": {
   "codemirror_mode": {
    "name": "ipython",
    "version": 3
   },
   "file_extension": ".py",
   "mimetype": "text/x-python",
   "name": "python",
   "nbconvert_exporter": "python",
   "pygments_lexer": "ipython3",
   "version": "3.7.6"
  }
 },
 "nbformat": 4,
 "nbformat_minor": 4
}
